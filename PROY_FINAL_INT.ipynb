{
  "cells": [
    {
      "cell_type": "code",
      "execution_count": null,
      "id": "mounted-trade",
      "metadata": {
        "scrolled": false,
        "id": "mounted-trade",
        "outputId": "2bef5c87-6393-4d18-cd0c-716574c7272b"
      },
      "outputs": [
        {
          "name": "stdout",
          "output_type": "stream",
          "text": [
            "Requirement already satisfied: scikit-learn in /Library/Frameworks/Python.framework/Versions/3.9/lib/python3.9/site-packages (1.2.2)\n",
            "Requirement already satisfied: numpy>=1.17.3 in /Library/Frameworks/Python.framework/Versions/3.9/lib/python3.9/site-packages (from scikit-learn) (1.19.5)\n",
            "Requirement already satisfied: threadpoolctl>=2.0.0 in /Library/Frameworks/Python.framework/Versions/3.9/lib/python3.9/site-packages (from scikit-learn) (3.1.0)\n",
            "Requirement already satisfied: joblib>=1.1.1 in /Library/Frameworks/Python.framework/Versions/3.9/lib/python3.9/site-packages (from scikit-learn) (1.2.0)\n",
            "Requirement already satisfied: scipy>=1.3.2 in /Library/Frameworks/Python.framework/Versions/3.9/lib/python3.9/site-packages (from scikit-learn) (1.6.1)\n",
            "\u001b[33mWARNING: You are using pip version 20.2.3; however, version 23.1.2 is available.\n",
            "You should consider upgrading via the '/Library/Frameworks/Python.framework/Versions/3.9/bin/python3.9 -m pip install --upgrade pip' command.\u001b[0m\n",
            "Note: you may need to restart the kernel to use updated packages.\n"
          ]
        }
      ],
      "source": [
        " %pip install scikit-learn"
      ]
    },
    {
      "cell_type": "code",
      "execution_count": null,
      "id": "enhanced-humanity",
      "metadata": {
        "id": "enhanced-humanity"
      },
      "outputs": [],
      "source": [
        "import pandas as pd\n",
        "import numpy as np\n",
        "import matplotlib.pyplot as plt\n",
        "from sklearn.preprocessing import LabelEncoder\n",
        "import seaborn as sns\n",
        "from scipy import stats\n",
        "from scipy.stats import norm, skew\n",
        "import random\n",
        "from sklearn.metrics import balanced_accuracy_score, f1_score\n",
        "from sklearn.metrics import accuracy_score, confusion_matrix, classification_report, ConfusionMatrixDisplay\n",
        "from sklearn.model_selection import train_test_split\n",
        "from sklearn.ensemble import RandomForestClassifier\n",
        "from sklearn.utils import class_weight\n",
        "from sklearn.model_selection import GridSearchCV, RandomizedSearchCV\n",
        "from sklearn.model_selection import cross_val_score, cross_val_predict, cross_validate, RepeatedStratifiedKFold\n",
        "from sklearn.svm import SVC\n",
        "from sklearn import svm\n",
        "from sklearn.preprocessing import StandardScaler"
      ]
    },
    {
      "cell_type": "code",
      "execution_count": null,
      "id": "otherwise-saskatchewan",
      "metadata": {
        "scrolled": true,
        "id": "otherwise-saskatchewan"
      },
      "outputs": [],
      "source": [
        "df=pd.read_csv(\"train.csv\")"
      ]
    },
    {
      "cell_type": "code",
      "execution_count": null,
      "id": "seventh-animal",
      "metadata": {
        "id": "seventh-animal",
        "outputId": "3f7e2a00-336d-4233-a65b-1f729341f1c3"
      },
      "outputs": [
        {
          "name": "stdout",
          "output_type": "stream",
          "text": [
            "<class 'pandas.core.frame.DataFrame'>\n",
            "RangeIndex: 1443276 entries, 0 to 1443275\n",
            "Data columns (total 91 columns):\n",
            " #   Column                           Non-Null Count    Dtype  \n",
            "---  ------                           --------------    -----  \n",
            " 0   pitch_uid                        1443276 non-null  int64  \n",
            " 1   game_pk                          1443276 non-null  int64  \n",
            " 2   game_date                        1443276 non-null  object \n",
            " 3   pitcher                          1443276 non-null  int64  \n",
            " 4   pitcher_name                     1443276 non-null  object \n",
            " 5   batter                           1443276 non-null  int64  \n",
            " 6   batter_name                      1443276 non-null  object \n",
            " 7   pitch_type                       1443276 non-null  object \n",
            " 8   release_speed                    1443276 non-null  float64\n",
            " 9   release_pos_x                    1443276 non-null  float64\n",
            " 10  release_pos_z                    1443276 non-null  float64\n",
            " 11  events                           367520 non-null   object \n",
            " 12  description                      1443276 non-null  object \n",
            " 13  spin_dir                         0 non-null        float64\n",
            " 14  zone                             1443276 non-null  float64\n",
            " 15  des                              1443271 non-null  object \n",
            " 16  game_type                        1443276 non-null  object \n",
            " 17  stand                            1443276 non-null  object \n",
            " 18  p_throws                         1443276 non-null  object \n",
            " 19  home_team                        1443276 non-null  object \n",
            " 20  away_team                        1443276 non-null  object \n",
            " 21  type                             1443276 non-null  object \n",
            " 22  hit_location                     319749 non-null   float64\n",
            " 23  bb_type                          247541 non-null   object \n",
            " 24  balls                            1443276 non-null  int64  \n",
            " 25  strikes                          1443276 non-null  int64  \n",
            " 26  game_year                        1443276 non-null  int64  \n",
            " 27  pfx_x                            1443276 non-null  float64\n",
            " 28  pfx_z                            1443276 non-null  float64\n",
            " 29  plate_x                          1443276 non-null  float64\n",
            " 30  plate_z                          1443276 non-null  float64\n",
            " 31  on_3b                            135191 non-null   float64\n",
            " 32  on_2b                            272206 non-null   float64\n",
            " 33  on_1b                            445952 non-null   float64\n",
            " 34  outs_when_up                     1443276 non-null  int64  \n",
            " 35  inning                           1443276 non-null  int64  \n",
            " 36  inning_topbot                    1443276 non-null  object \n",
            " 37  hc_x                             247375 non-null   float64\n",
            " 38  hc_y                             247375 non-null   float64\n",
            " 39  fielder_2                        1443276 non-null  int64  \n",
            " 40  umpire                           0 non-null        float64\n",
            " 41  sv_id                            0 non-null        float64\n",
            " 42  vx0                              1443276 non-null  float64\n",
            " 43  vy0                              1443276 non-null  float64\n",
            " 44  vz0                              1443276 non-null  float64\n",
            " 45  ax                               1443276 non-null  float64\n",
            " 46  ay                               1443276 non-null  float64\n",
            " 47  az                               1443276 non-null  float64\n",
            " 48  sz_top                           1443276 non-null  float64\n",
            " 49  sz_bot                           1443276 non-null  float64\n",
            " 50  hit_distance_sc                  468261 non-null   float64\n",
            " 51  launch_speed                     464882 non-null   float64\n",
            " 52  launch_angle                     465087 non-null   float64\n",
            " 53  effective_speed                  1443276 non-null  float64\n",
            " 54  release_spin_rate                1443276 non-null  float64\n",
            " 55  release_extension                1443276 non-null  float64\n",
            " 56  pitcher.1                        1443276 non-null  int64  \n",
            " 57  fielder_2.1                      1443276 non-null  int64  \n",
            " 58  fielder_3                        1443276 non-null  int64  \n",
            " 59  fielder_4                        1443276 non-null  int64  \n",
            " 60  fielder_5                        1443276 non-null  int64  \n",
            " 61  fielder_6                        1443276 non-null  int64  \n",
            " 62  fielder_7                        1443276 non-null  int64  \n",
            " 63  fielder_8                        1443276 non-null  int64  \n",
            " 64  fielder_9                        1443276 non-null  int64  \n",
            " 65  release_pos_y                    1443276 non-null  float64\n",
            " 66  estimated_ba_using_speedangle    246556 non-null   float64\n",
            " 67  estimated_woba_using_speedangle  246556 non-null   float64\n",
            " 68  woba_value                       367520 non-null   float64\n",
            " 69  woba_denom                       355270 non-null   float64\n",
            " 70  babip_value                      367520 non-null   float64\n",
            " 71  iso_value                        367520 non-null   float64\n",
            " 72  launch_speed_angle               246556 non-null   float64\n",
            " 73  at_bat_number                    1443276 non-null  int64  \n",
            " 74  pitch_number                     1443276 non-null  int64  \n",
            " 75  pitch_name                       1443276 non-null  object \n",
            " 76  home_score                       1443276 non-null  int64  \n",
            " 77  away_score                       1443276 non-null  int64  \n",
            " 78  bat_score                        1443276 non-null  int64  \n",
            " 79  fld_score                        1443276 non-null  int64  \n",
            " 80  post_away_score                  1443276 non-null  int64  \n",
            " 81  post_home_score                  1443276 non-null  int64  \n",
            " 82  post_bat_score                   1443276 non-null  int64  \n",
            " 83  post_fld_score                   1443276 non-null  int64  \n",
            " 84  if_fielding_alignment            1411459 non-null  object \n",
            " 85  of_fielding_alignment            1411459 non-null  object \n",
            " 86  spin_axis                        1443276 non-null  float64\n",
            " 87  delta_home_win_exp               1443276 non-null  float64\n",
            " 88  delta_run_exp                    1398504 non-null  float64\n",
            " 89  attack_zone                      1443276 non-null  object \n",
            " 90  swing                            1443276 non-null  int64  \n",
            "dtypes: float64(42), int64(30), object(19)\n",
            "memory usage: 1002.0+ MB\n"
          ]
        }
      ],
      "source": [
        "df.info()"
      ]
    },
    {
      "cell_type": "code",
      "execution_count": null,
      "id": "daily-testament",
      "metadata": {
        "id": "daily-testament",
        "outputId": "35ee51a0-9976-465b-89b6-1b7389d11ae1"
      },
      "outputs": [
        {
          "data": {
            "text/plain": [
              "pitch_uid               int64\n",
              "game_pk                 int64\n",
              "game_date              object\n",
              "pitcher                 int64\n",
              "pitcher_name           object\n",
              "                       ...   \n",
              "spin_axis             float64\n",
              "delta_home_win_exp    float64\n",
              "delta_run_exp         float64\n",
              "attack_zone            object\n",
              "swing                   int64\n",
              "Length: 91, dtype: object"
            ]
          },
          "execution_count": 5,
          "metadata": {},
          "output_type": "execute_result"
        }
      ],
      "source": [
        "df.dtypes"
      ]
    },
    {
      "cell_type": "code",
      "execution_count": null,
      "id": "cleared-question",
      "metadata": {
        "id": "cleared-question"
      },
      "outputs": [],
      "source": [
        "#variables que nos interesan\n",
        "new_df=df[[\"pitch_type\",\"release_speed\",\"release_pos_x\",\"release_pos_z\",\"zone\",\"pfx_x\",\"pfx_z\",\"plate_x\",\"plate_z\",\"vx0\",\n",
        "          \"vy0\",\"vz0\",\"ax\",\"ay\",\"az\",\"effective_speed\",\"release_spin_rate\",\"release_extension\",\"release_pos_y\",\"spin_axis\",\"swing\"]]"
      ]
    },
    {
      "cell_type": "code",
      "execution_count": null,
      "id": "packed-expert",
      "metadata": {
        "id": "packed-expert",
        "outputId": "984e4e9b-63b4-4698-ef66-a8207524265d"
      },
      "outputs": [
        {
          "name": "stdout",
          "output_type": "stream",
          "text": [
            "<class 'pandas.core.frame.DataFrame'>\n",
            "RangeIndex: 1443276 entries, 0 to 1443275\n",
            "Data columns (total 21 columns):\n",
            " #   Column             Non-Null Count    Dtype  \n",
            "---  ------             --------------    -----  \n",
            " 0   pitch_type         1443276 non-null  object \n",
            " 1   release_speed      1443276 non-null  float64\n",
            " 2   release_pos_x      1443276 non-null  float64\n",
            " 3   release_pos_z      1443276 non-null  float64\n",
            " 4   zone               1443276 non-null  float64\n",
            " 5   pfx_x              1443276 non-null  float64\n",
            " 6   pfx_z              1443276 non-null  float64\n",
            " 7   plate_x            1443276 non-null  float64\n",
            " 8   plate_z            1443276 non-null  float64\n",
            " 9   vx0                1443276 non-null  float64\n",
            " 10  vy0                1443276 non-null  float64\n",
            " 11  vz0                1443276 non-null  float64\n",
            " 12  ax                 1443276 non-null  float64\n",
            " 13  ay                 1443276 non-null  float64\n",
            " 14  az                 1443276 non-null  float64\n",
            " 15  effective_speed    1443276 non-null  float64\n",
            " 16  release_spin_rate  1443276 non-null  float64\n",
            " 17  release_extension  1443276 non-null  float64\n",
            " 18  release_pos_y      1443276 non-null  float64\n",
            " 19  spin_axis          1443276 non-null  float64\n",
            " 20  swing              1443276 non-null  int64  \n",
            "dtypes: float64(19), int64(1), object(1)\n",
            "memory usage: 231.2+ MB\n"
          ]
        }
      ],
      "source": [
        "new_df.info()"
      ]
    },
    {
      "cell_type": "code",
      "execution_count": null,
      "id": "raising-canal",
      "metadata": {
        "id": "raising-canal",
        "outputId": "68ac69fd-c47a-49b7-96d2-e084387a0dbf"
      },
      "outputs": [
        {
          "data": {
            "text/plain": [
              "pitch_type            object\n",
              "release_speed        float64\n",
              "release_pos_x        float64\n",
              "release_pos_z        float64\n",
              "zone                 float64\n",
              "pfx_x                float64\n",
              "pfx_z                float64\n",
              "plate_x              float64\n",
              "plate_z              float64\n",
              "vx0                  float64\n",
              "vy0                  float64\n",
              "vz0                  float64\n",
              "ax                   float64\n",
              "ay                   float64\n",
              "az                   float64\n",
              "effective_speed      float64\n",
              "release_spin_rate    float64\n",
              "release_extension    float64\n",
              "release_pos_y        float64\n",
              "spin_axis            float64\n",
              "swing                  int64\n",
              "dtype: object"
            ]
          },
          "execution_count": 8,
          "metadata": {},
          "output_type": "execute_result"
        }
      ],
      "source": [
        "new_df.dtypes"
      ]
    },
    {
      "cell_type": "code",
      "execution_count": null,
      "id": "supposed-hormone",
      "metadata": {
        "id": "supposed-hormone",
        "outputId": "3c1571e9-12a9-40dd-9b90-8b55a1029463"
      },
      "outputs": [
        {
          "data": {
            "text/plain": [
              "0"
            ]
          },
          "execution_count": 9,
          "metadata": {},
          "output_type": "execute_result"
        }
      ],
      "source": [
        "new_df.isnull().sum().sum()"
      ]
    },
    {
      "cell_type": "code",
      "execution_count": null,
      "id": "hidden-producer",
      "metadata": {
        "id": "hidden-producer",
        "outputId": "a30e9ca0-dcb0-4279-f82a-176927230e56"
      },
      "outputs": [
        {
          "data": {
            "text/html": [
              "<div>\n",
              "<style scoped>\n",
              "    .dataframe tbody tr th:only-of-type {\n",
              "        vertical-align: middle;\n",
              "    }\n",
              "\n",
              "    .dataframe tbody tr th {\n",
              "        vertical-align: top;\n",
              "    }\n",
              "\n",
              "    .dataframe thead th {\n",
              "        text-align: right;\n",
              "    }\n",
              "</style>\n",
              "<table border=\"1\" class=\"dataframe\">\n",
              "  <thead>\n",
              "    <tr style=\"text-align: right;\">\n",
              "      <th></th>\n",
              "      <th>% De valores nulos</th>\n",
              "    </tr>\n",
              "  </thead>\n",
              "  <tbody>\n",
              "  </tbody>\n",
              "</table>\n",
              "</div>"
            ],
            "text/plain": [
              "Empty DataFrame\n",
              "Columns: [% De valores nulos]\n",
              "Index: []"
            ]
          },
          "execution_count": 10,
          "metadata": {},
          "output_type": "execute_result"
        }
      ],
      "source": [
        "#valores nulos\n",
        "all_data_na = (new_df.isnull().sum() / len(df)) * 100\n",
        "all_data_na = all_data_na.drop(all_data_na[all_data_na == 0].index).sort_values(ascending=False)[:30]\n",
        "missing_data = pd.DataFrame({'% De valores nulos' :all_data_na})\n",
        "missing_data.head(20)"
      ]
    },
    {
      "cell_type": "code",
      "execution_count": null,
      "id": "greater-nightmare",
      "metadata": {
        "id": "greater-nightmare",
        "outputId": "1246cbb6-1022-4403-b278-dd1a132c1063"
      },
      "outputs": [
        {
          "data": {
            "text/plain": [
              "0          False\n",
              "1          False\n",
              "2          False\n",
              "3          False\n",
              "4          False\n",
              "           ...  \n",
              "1443271    False\n",
              "1443272    False\n",
              "1443273    False\n",
              "1443274    False\n",
              "1443275    False\n",
              "Length: 1443276, dtype: bool"
            ]
          },
          "execution_count": 11,
          "metadata": {},
          "output_type": "execute_result"
        }
      ],
      "source": [
        "#Duplicados\n",
        "new_df.duplicated()"
      ]
    },
    {
      "cell_type": "code",
      "execution_count": null,
      "id": "broke-variable",
      "metadata": {
        "id": "broke-variable",
        "outputId": "1aceb0c7-4cfe-4cbd-821a-82ab307e8aa5"
      },
      "outputs": [
        {
          "data": {
            "text/plain": [
              "0"
            ]
          },
          "execution_count": 12,
          "metadata": {},
          "output_type": "execute_result"
        }
      ],
      "source": [
        "sum(new_df.duplicated())"
      ]
    },
    {
      "cell_type": "code",
      "execution_count": null,
      "id": "continental-acceptance",
      "metadata": {
        "id": "continental-acceptance"
      },
      "outputs": [],
      "source": [
        "#SEPARAMOS VARIABLES CUANTITATIVAS Y CUALITATIVAS\n",
        "quantitative = [f for f in new_df.columns if new_df.dtypes[f] != 'object']\n",
        "qualitative = [f for f in new_df.columns if new_df.dtypes[f] == 'object']"
      ]
    },
    {
      "cell_type": "code",
      "execution_count": null,
      "id": "bizarre-officer",
      "metadata": {
        "id": "bizarre-officer",
        "outputId": "f68587c6-bb9e-427e-e9b8-95dffd112ba1"
      },
      "outputs": [
        {
          "name": "stdout",
          "output_type": "stream",
          "text": [
            "Quantitaive Features ['release_speed', 'release_pos_x', 'release_pos_z', 'zone', 'pfx_x', 'pfx_z', 'plate_x', 'plate_z', 'vx0', 'vy0', 'vz0', 'ax', 'ay', 'az', 'effective_speed', 'release_spin_rate', 'release_extension', 'release_pos_y', 'spin_axis', 'swing']\n",
            "\n",
            "Qualitaive Features ['pitch_type']\n"
          ]
        }
      ],
      "source": [
        "print(\"Quantitaive Features\",quantitative)\n",
        "print(\"\")\n",
        "print(\"Qualitaive Features\",qualitative)"
      ]
    },
    {
      "cell_type": "code",
      "execution_count": null,
      "id": "behavioral-amplifier",
      "metadata": {
        "id": "behavioral-amplifier",
        "outputId": "bada5b14-18ee-4fa3-f700-00d879c0c390"
      },
      "outputs": [
        {
          "data": {
            "text/plain": [
              "array(['FF', 'SL', 'KC', 'CH', 'CU', 'SI', 'FC', 'CS', 'FS', 'ST', 'SV',\n",
              "       'FA', 'PO', 'EP', 'KN', 'SC'], dtype=object)"
            ]
          },
          "execution_count": 15,
          "metadata": {},
          "output_type": "execute_result"
        }
      ],
      "source": [
        "#VEMOS NUMERO DE PITCH TYPE \n",
        "new_df[\"pitch_type\"].unique()"
      ]
    },
    {
      "cell_type": "code",
      "execution_count": null,
      "id": "cosmetic-kenya",
      "metadata": {
        "id": "cosmetic-kenya"
      },
      "outputs": [],
      "source": [
        "#YA QUE PITCH TYPE NO SON VARIABLES JERARQUICAS OPTAMOS POR USAR ONE HOT ENCODER QUE\n",
        "# ES MAS EFICIENTE PARA ESTE CASO \n",
        "import pandas as pd\n",
        "from sklearn.preprocessing import OneHotEncoder\n",
        "\n",
        "ohe = OneHotEncoder()\n",
        "encoded_array = ohe.fit_transform(new_df[['pitch_type']]).toarray()\n",
        "encoded_df = pd.DataFrame(encoded_array, columns=ohe.get_feature_names_out(['pitch_type']))\n",
        "new_df_encoded = pd.concat([new_df, encoded_df], axis=1)\n",
        "new_df_encoded.drop(columns=\"pitch_type\",inplace=True)"
      ]
    },
    {
      "cell_type": "code",
      "execution_count": null,
      "id": "important-cathedral",
      "metadata": {
        "id": "important-cathedral",
        "outputId": "d00c1ef1-d569-4164-c25c-12fffc90aab9"
      },
      "outputs": [
        {
          "data": {
            "text/html": [
              "<div>\n",
              "<style scoped>\n",
              "    .dataframe tbody tr th:only-of-type {\n",
              "        vertical-align: middle;\n",
              "    }\n",
              "\n",
              "    .dataframe tbody tr th {\n",
              "        vertical-align: top;\n",
              "    }\n",
              "\n",
              "    .dataframe thead th {\n",
              "        text-align: right;\n",
              "    }\n",
              "</style>\n",
              "<table border=\"1\" class=\"dataframe\">\n",
              "  <thead>\n",
              "    <tr style=\"text-align: right;\">\n",
              "      <th></th>\n",
              "      <th>release_speed</th>\n",
              "      <th>release_pos_x</th>\n",
              "      <th>release_pos_z</th>\n",
              "      <th>zone</th>\n",
              "      <th>pfx_x</th>\n",
              "      <th>pfx_z</th>\n",
              "      <th>plate_x</th>\n",
              "      <th>plate_z</th>\n",
              "      <th>vx0</th>\n",
              "      <th>vy0</th>\n",
              "      <th>...</th>\n",
              "      <th>pitch_type_FF</th>\n",
              "      <th>pitch_type_FS</th>\n",
              "      <th>pitch_type_KC</th>\n",
              "      <th>pitch_type_KN</th>\n",
              "      <th>pitch_type_PO</th>\n",
              "      <th>pitch_type_SC</th>\n",
              "      <th>pitch_type_SI</th>\n",
              "      <th>pitch_type_SL</th>\n",
              "      <th>pitch_type_ST</th>\n",
              "      <th>pitch_type_SV</th>\n",
              "    </tr>\n",
              "  </thead>\n",
              "  <tbody>\n",
              "    <tr>\n",
              "      <th>0</th>\n",
              "      <td>95.2</td>\n",
              "      <td>2.19</td>\n",
              "      <td>6.19</td>\n",
              "      <td>5.0</td>\n",
              "      <td>0.68</td>\n",
              "      <td>1.55</td>\n",
              "      <td>-0.23</td>\n",
              "      <td>2.17</td>\n",
              "      <td>-7.905302</td>\n",
              "      <td>-138.131797</td>\n",
              "      <td>...</td>\n",
              "      <td>1.0</td>\n",
              "      <td>0.0</td>\n",
              "      <td>0.0</td>\n",
              "      <td>0.0</td>\n",
              "      <td>0.0</td>\n",
              "      <td>0.0</td>\n",
              "      <td>0.0</td>\n",
              "      <td>0.0</td>\n",
              "      <td>0.0</td>\n",
              "      <td>0.0</td>\n",
              "    </tr>\n",
              "    <tr>\n",
              "      <th>1</th>\n",
              "      <td>94.9</td>\n",
              "      <td>1.96</td>\n",
              "      <td>6.32</td>\n",
              "      <td>11.0</td>\n",
              "      <td>0.86</td>\n",
              "      <td>1.51</td>\n",
              "      <td>-1.41</td>\n",
              "      <td>2.68</td>\n",
              "      <td>-10.742471</td>\n",
              "      <td>-137.510314</td>\n",
              "      <td>...</td>\n",
              "      <td>1.0</td>\n",
              "      <td>0.0</td>\n",
              "      <td>0.0</td>\n",
              "      <td>0.0</td>\n",
              "      <td>0.0</td>\n",
              "      <td>0.0</td>\n",
              "      <td>0.0</td>\n",
              "      <td>0.0</td>\n",
              "      <td>0.0</td>\n",
              "      <td>0.0</td>\n",
              "    </tr>\n",
              "    <tr>\n",
              "      <th>2</th>\n",
              "      <td>87.9</td>\n",
              "      <td>2.25</td>\n",
              "      <td>6.10</td>\n",
              "      <td>13.0</td>\n",
              "      <td>0.43</td>\n",
              "      <td>0.44</td>\n",
              "      <td>-0.85</td>\n",
              "      <td>0.68</td>\n",
              "      <td>-8.409080</td>\n",
              "      <td>-127.473926</td>\n",
              "      <td>...</td>\n",
              "      <td>0.0</td>\n",
              "      <td>0.0</td>\n",
              "      <td>0.0</td>\n",
              "      <td>0.0</td>\n",
              "      <td>0.0</td>\n",
              "      <td>0.0</td>\n",
              "      <td>0.0</td>\n",
              "      <td>1.0</td>\n",
              "      <td>0.0</td>\n",
              "      <td>0.0</td>\n",
              "    </tr>\n",
              "    <tr>\n",
              "      <th>3</th>\n",
              "      <td>88.2</td>\n",
              "      <td>2.44</td>\n",
              "      <td>5.96</td>\n",
              "      <td>13.0</td>\n",
              "      <td>0.08</td>\n",
              "      <td>0.45</td>\n",
              "      <td>-0.92</td>\n",
              "      <td>-0.54</td>\n",
              "      <td>-8.314469</td>\n",
              "      <td>-127.908376</td>\n",
              "      <td>...</td>\n",
              "      <td>0.0</td>\n",
              "      <td>0.0</td>\n",
              "      <td>0.0</td>\n",
              "      <td>0.0</td>\n",
              "      <td>0.0</td>\n",
              "      <td>0.0</td>\n",
              "      <td>0.0</td>\n",
              "      <td>1.0</td>\n",
              "      <td>0.0</td>\n",
              "      <td>0.0</td>\n",
              "    </tr>\n",
              "    <tr>\n",
              "      <th>4</th>\n",
              "      <td>95.8</td>\n",
              "      <td>1.93</td>\n",
              "      <td>6.23</td>\n",
              "      <td>13.0</td>\n",
              "      <td>0.74</td>\n",
              "      <td>1.51</td>\n",
              "      <td>-1.35</td>\n",
              "      <td>2.03</td>\n",
              "      <td>-10.351316</td>\n",
              "      <td>-138.879980</td>\n",
              "      <td>...</td>\n",
              "      <td>1.0</td>\n",
              "      <td>0.0</td>\n",
              "      <td>0.0</td>\n",
              "      <td>0.0</td>\n",
              "      <td>0.0</td>\n",
              "      <td>0.0</td>\n",
              "      <td>0.0</td>\n",
              "      <td>0.0</td>\n",
              "      <td>0.0</td>\n",
              "      <td>0.0</td>\n",
              "    </tr>\n",
              "    <tr>\n",
              "      <th>...</th>\n",
              "      <td>...</td>\n",
              "      <td>...</td>\n",
              "      <td>...</td>\n",
              "      <td>...</td>\n",
              "      <td>...</td>\n",
              "      <td>...</td>\n",
              "      <td>...</td>\n",
              "      <td>...</td>\n",
              "      <td>...</td>\n",
              "      <td>...</td>\n",
              "      <td>...</td>\n",
              "      <td>...</td>\n",
              "      <td>...</td>\n",
              "      <td>...</td>\n",
              "      <td>...</td>\n",
              "      <td>...</td>\n",
              "      <td>...</td>\n",
              "      <td>...</td>\n",
              "      <td>...</td>\n",
              "      <td>...</td>\n",
              "      <td>...</td>\n",
              "    </tr>\n",
              "    <tr>\n",
              "      <th>1443271</th>\n",
              "      <td>88.3</td>\n",
              "      <td>2.28</td>\n",
              "      <td>5.51</td>\n",
              "      <td>12.0</td>\n",
              "      <td>1.11</td>\n",
              "      <td>0.94</td>\n",
              "      <td>0.87</td>\n",
              "      <td>2.85</td>\n",
              "      <td>-5.739170</td>\n",
              "      <td>-128.563371</td>\n",
              "      <td>...</td>\n",
              "      <td>1.0</td>\n",
              "      <td>0.0</td>\n",
              "      <td>0.0</td>\n",
              "      <td>0.0</td>\n",
              "      <td>0.0</td>\n",
              "      <td>0.0</td>\n",
              "      <td>0.0</td>\n",
              "      <td>0.0</td>\n",
              "      <td>0.0</td>\n",
              "      <td>0.0</td>\n",
              "    </tr>\n",
              "    <tr>\n",
              "      <th>1443272</th>\n",
              "      <td>88.1</td>\n",
              "      <td>-2.33</td>\n",
              "      <td>5.75</td>\n",
              "      <td>4.0</td>\n",
              "      <td>-1.16</td>\n",
              "      <td>0.28</td>\n",
              "      <td>-0.33</td>\n",
              "      <td>2.30</td>\n",
              "      <td>7.273766</td>\n",
              "      <td>-128.090642</td>\n",
              "      <td>...</td>\n",
              "      <td>0.0</td>\n",
              "      <td>0.0</td>\n",
              "      <td>0.0</td>\n",
              "      <td>0.0</td>\n",
              "      <td>0.0</td>\n",
              "      <td>0.0</td>\n",
              "      <td>0.0</td>\n",
              "      <td>0.0</td>\n",
              "      <td>0.0</td>\n",
              "      <td>0.0</td>\n",
              "    </tr>\n",
              "    <tr>\n",
              "      <th>1443273</th>\n",
              "      <td>88.7</td>\n",
              "      <td>-2.58</td>\n",
              "      <td>5.57</td>\n",
              "      <td>13.0</td>\n",
              "      <td>-1.19</td>\n",
              "      <td>0.42</td>\n",
              "      <td>-2.53</td>\n",
              "      <td>2.34</td>\n",
              "      <td>2.603118</td>\n",
              "      <td>-129.141453</td>\n",
              "      <td>...</td>\n",
              "      <td>0.0</td>\n",
              "      <td>0.0</td>\n",
              "      <td>0.0</td>\n",
              "      <td>0.0</td>\n",
              "      <td>0.0</td>\n",
              "      <td>0.0</td>\n",
              "      <td>1.0</td>\n",
              "      <td>0.0</td>\n",
              "      <td>0.0</td>\n",
              "      <td>0.0</td>\n",
              "    </tr>\n",
              "    <tr>\n",
              "      <th>1443274</th>\n",
              "      <td>76.7</td>\n",
              "      <td>-2.48</td>\n",
              "      <td>4.86</td>\n",
              "      <td>2.0</td>\n",
              "      <td>1.04</td>\n",
              "      <td>-0.17</td>\n",
              "      <td>0.00</td>\n",
              "      <td>2.71</td>\n",
              "      <td>3.365469</td>\n",
              "      <td>-111.701598</td>\n",
              "      <td>...</td>\n",
              "      <td>0.0</td>\n",
              "      <td>0.0</td>\n",
              "      <td>0.0</td>\n",
              "      <td>0.0</td>\n",
              "      <td>0.0</td>\n",
              "      <td>0.0</td>\n",
              "      <td>0.0</td>\n",
              "      <td>0.0</td>\n",
              "      <td>0.0</td>\n",
              "      <td>0.0</td>\n",
              "    </tr>\n",
              "    <tr>\n",
              "      <th>1443275</th>\n",
              "      <td>86.8</td>\n",
              "      <td>-2.44</td>\n",
              "      <td>4.72</td>\n",
              "      <td>2.0</td>\n",
              "      <td>-0.65</td>\n",
              "      <td>0.87</td>\n",
              "      <td>-0.01</td>\n",
              "      <td>3.40</td>\n",
              "      <td>7.108330</td>\n",
              "      <td>-126.241011</td>\n",
              "      <td>...</td>\n",
              "      <td>1.0</td>\n",
              "      <td>0.0</td>\n",
              "      <td>0.0</td>\n",
              "      <td>0.0</td>\n",
              "      <td>0.0</td>\n",
              "      <td>0.0</td>\n",
              "      <td>0.0</td>\n",
              "      <td>0.0</td>\n",
              "      <td>0.0</td>\n",
              "      <td>0.0</td>\n",
              "    </tr>\n",
              "  </tbody>\n",
              "</table>\n",
              "<p>1443276 rows × 36 columns</p>\n",
              "</div>"
            ],
            "text/plain": [
              "         release_speed  release_pos_x  release_pos_z  zone  pfx_x  pfx_z  \\\n",
              "0                 95.2           2.19           6.19   5.0   0.68   1.55   \n",
              "1                 94.9           1.96           6.32  11.0   0.86   1.51   \n",
              "2                 87.9           2.25           6.10  13.0   0.43   0.44   \n",
              "3                 88.2           2.44           5.96  13.0   0.08   0.45   \n",
              "4                 95.8           1.93           6.23  13.0   0.74   1.51   \n",
              "...                ...            ...            ...   ...    ...    ...   \n",
              "1443271           88.3           2.28           5.51  12.0   1.11   0.94   \n",
              "1443272           88.1          -2.33           5.75   4.0  -1.16   0.28   \n",
              "1443273           88.7          -2.58           5.57  13.0  -1.19   0.42   \n",
              "1443274           76.7          -2.48           4.86   2.0   1.04  -0.17   \n",
              "1443275           86.8          -2.44           4.72   2.0  -0.65   0.87   \n",
              "\n",
              "         plate_x  plate_z        vx0         vy0  ...  pitch_type_FF  \\\n",
              "0          -0.23     2.17  -7.905302 -138.131797  ...            1.0   \n",
              "1          -1.41     2.68 -10.742471 -137.510314  ...            1.0   \n",
              "2          -0.85     0.68  -8.409080 -127.473926  ...            0.0   \n",
              "3          -0.92    -0.54  -8.314469 -127.908376  ...            0.0   \n",
              "4          -1.35     2.03 -10.351316 -138.879980  ...            1.0   \n",
              "...          ...      ...        ...         ...  ...            ...   \n",
              "1443271     0.87     2.85  -5.739170 -128.563371  ...            1.0   \n",
              "1443272    -0.33     2.30   7.273766 -128.090642  ...            0.0   \n",
              "1443273    -2.53     2.34   2.603118 -129.141453  ...            0.0   \n",
              "1443274     0.00     2.71   3.365469 -111.701598  ...            0.0   \n",
              "1443275    -0.01     3.40   7.108330 -126.241011  ...            1.0   \n",
              "\n",
              "         pitch_type_FS  pitch_type_KC  pitch_type_KN  pitch_type_PO  \\\n",
              "0                  0.0            0.0            0.0            0.0   \n",
              "1                  0.0            0.0            0.0            0.0   \n",
              "2                  0.0            0.0            0.0            0.0   \n",
              "3                  0.0            0.0            0.0            0.0   \n",
              "4                  0.0            0.0            0.0            0.0   \n",
              "...                ...            ...            ...            ...   \n",
              "1443271            0.0            0.0            0.0            0.0   \n",
              "1443272            0.0            0.0            0.0            0.0   \n",
              "1443273            0.0            0.0            0.0            0.0   \n",
              "1443274            0.0            0.0            0.0            0.0   \n",
              "1443275            0.0            0.0            0.0            0.0   \n",
              "\n",
              "         pitch_type_SC  pitch_type_SI  pitch_type_SL  pitch_type_ST  \\\n",
              "0                  0.0            0.0            0.0            0.0   \n",
              "1                  0.0            0.0            0.0            0.0   \n",
              "2                  0.0            0.0            1.0            0.0   \n",
              "3                  0.0            0.0            1.0            0.0   \n",
              "4                  0.0            0.0            0.0            0.0   \n",
              "...                ...            ...            ...            ...   \n",
              "1443271            0.0            0.0            0.0            0.0   \n",
              "1443272            0.0            0.0            0.0            0.0   \n",
              "1443273            0.0            1.0            0.0            0.0   \n",
              "1443274            0.0            0.0            0.0            0.0   \n",
              "1443275            0.0            0.0            0.0            0.0   \n",
              "\n",
              "         pitch_type_SV  \n",
              "0                  0.0  \n",
              "1                  0.0  \n",
              "2                  0.0  \n",
              "3                  0.0  \n",
              "4                  0.0  \n",
              "...                ...  \n",
              "1443271            0.0  \n",
              "1443272            0.0  \n",
              "1443273            0.0  \n",
              "1443274            0.0  \n",
              "1443275            0.0  \n",
              "\n",
              "[1443276 rows x 36 columns]"
            ]
          },
          "execution_count": 17,
          "metadata": {},
          "output_type": "execute_result"
        }
      ],
      "source": [
        "new_df_encoded"
      ]
    },
    {
      "cell_type": "code",
      "execution_count": null,
      "id": "elementary-amateur",
      "metadata": {
        "id": "elementary-amateur",
        "outputId": "7003417e-1be2-458c-af6f-c5b981a916e6"
      },
      "outputs": [
        {
          "data": {
            "text/plain": [
              "array([0, 1])"
            ]
          },
          "execution_count": 18,
          "metadata": {},
          "output_type": "execute_result"
        }
      ],
      "source": [
        "#NOTEMOS QUE SWING SON DOS TIPOS DE VARIABLES\n",
        "new_df_encoded[\"swing\"].unique()"
      ]
    },
    {
      "cell_type": "code",
      "execution_count": null,
      "id": "voluntary-ideal",
      "metadata": {
        "id": "voluntary-ideal",
        "outputId": "770e85c6-270e-4196-cf2a-696d44500433"
      },
      "outputs": [
        {
          "data": {
            "image/png": "[encoded data removed]",
            "text/plain": [
              "<Figure size 432x288 with 1 Axes>"
            ]
          },
          "metadata": {
            "needs_background": "light"
          },
          "output_type": "display_data"
        }
      ],
      "source": [
        "#NOTEMOS QUE NO EXISTE MUCHO DESBALANCEO DE LOS DATOS QUE ES IMPORTANTE\n",
        "sns.histplot(new_df_encoded, x='swing', bins=2)\n",
        "plt.xlabel('Presencia de Swing')\n",
        "plt.ylabel('Frecuencia')\n",
        "plt.title('Distribución de la Variable Respuesta')\n",
        "plt.show()"
      ]
    },
    {
      "cell_type": "code",
      "execution_count": null,
      "id": "united-fisher",
      "metadata": {
        "id": "united-fisher",
        "outputId": "7d398780-0f16-4c07-a6c0-0f638e27e1b1"
      },
      "outputs": [
        {
          "data": {
            "text/plain": [
              "0    764736\n",
              "1    678540\n",
              "Name: swing, dtype: int64"
            ]
          },
          "execution_count": 20,
          "metadata": {},
          "output_type": "execute_result"
        }
      ],
      "source": [
        "new_df_encoded[\"swing\"].value_counts().sort_index()"
      ]
    },
    {
      "cell_type": "code",
      "execution_count": null,
      "id": "square-economy",
      "metadata": {
        "id": "square-economy",
        "outputId": "30663e47-9c32-4521-efcd-abe1fa3263bb"
      },
      "outputs": [
        {
          "data": {
            "text/plain": [
              "1443276"
            ]
          },
          "execution_count": 21,
          "metadata": {},
          "output_type": "execute_result"
        }
      ],
      "source": [
        "764736 + 678540"
      ]
    },
    {
      "cell_type": "code",
      "execution_count": null,
      "id": "competitive-fairy",
      "metadata": {
        "id": "competitive-fairy",
        "outputId": "e77ea599-1758-4651-e9d8-83b021169644"
      },
      "outputs": [
        {
          "data": {
            "text/plain": [
              "0.5298612323630407"
            ]
          },
          "execution_count": 22,
          "metadata": {},
          "output_type": "execute_result"
        }
      ],
      "source": [
        "764736/1443276"
      ]
    },
    {
      "cell_type": "code",
      "execution_count": null,
      "id": "settled-cheese",
      "metadata": {
        "id": "settled-cheese",
        "outputId": "7c5b1dbb-24b6-4438-8e0c-8816b09f1615"
      },
      "outputs": [
        {
          "data": {
            "text/plain": [
              "zone                -0.358011\n",
              "pitch_type_CU       -0.043751\n",
              "vy0                 -0.035093\n",
              "plate_x             -0.024383\n",
              "release_spin_rate   -0.017379\n",
              "pitch_type_SI       -0.016595\n",
              "pitch_type_KC       -0.014952\n",
              "pfx_x               -0.010426\n",
              "release_pos_y       -0.008404\n",
              "ax                  -0.008259\n",
              "pitch_type_PO       -0.006560\n",
              "vx0                 -0.005968\n",
              "pitch_type_SV       -0.003331\n",
              "pitch_type_ST       -0.002644\n",
              "pitch_type_CS       -0.002406\n",
              "pitch_type_KN       -0.001327\n",
              "pitch_type_EP       -0.001127\n",
              "pitch_type_FA       -0.000897\n",
              "release_pos_z       -0.000260\n",
              "pitch_type_SC        0.000983\n",
              "release_pos_x        0.001791\n",
              "pitch_type_SL        0.006524\n",
              "pitch_type_FF        0.008111\n",
              "release_extension    0.008352\n",
              "pitch_type_FS        0.014233\n",
              "pitch_type_FC        0.015743\n",
              "spin_axis            0.017125\n",
              "vz0                  0.020125\n",
              "ay                   0.020997\n",
              "az                   0.023129\n",
              "pitch_type_CH        0.026577\n",
              "pfx_z                0.028276\n",
              "release_speed        0.032219\n",
              "effective_speed      0.035901\n",
              "plate_z              0.059670\n",
              "swing                1.000000\n",
              "Name: swing, dtype: float64"
            ]
          },
          "execution_count": 23,
          "metadata": {},
          "output_type": "execute_result"
        }
      ],
      "source": [
        "#Correlaciones\n",
        "corr_Y_X=pd.DataFrame(new_df_encoded[new_df_encoded.columns[:]].corr()['swing'][:])\n",
        "corr_Y_X[\"swing\"].sort_values()"
      ]
    },
    {
      "cell_type": "code",
      "execution_count": null,
      "id": "ancient-vietnam",
      "metadata": {
        "scrolled": true,
        "id": "ancient-vietnam",
        "outputId": "1122de8a-7e4f-4120-8843-f5cc417634c2"
      },
      "outputs": [
        {
          "name": "stdout",
          "output_type": "stream",
          "text": [
            "\n",
            "Skew in numerical features: \n",
            "\n"
          ]
        },
        {
          "data": {
            "text/html": [
              "<div>\n",
              "<style scoped>\n",
              "    .dataframe tbody tr th:only-of-type {\n",
              "        vertical-align: middle;\n",
              "    }\n",
              "\n",
              "    .dataframe tbody tr th {\n",
              "        vertical-align: top;\n",
              "    }\n",
              "\n",
              "    .dataframe thead th {\n",
              "        text-align: right;\n",
              "    }\n",
              "</style>\n",
              "<table border=\"1\" class=\"dataframe\">\n",
              "  <thead>\n",
              "    <tr style=\"text-align: right;\">\n",
              "      <th></th>\n",
              "      <th>Skew</th>\n",
              "    </tr>\n",
              "  </thead>\n",
              "  <tbody>\n",
              "    <tr>\n",
              "      <th>pitch_type_SC</th>\n",
              "      <td>400.450996</td>\n",
              "    </tr>\n",
              "    <tr>\n",
              "      <th>pitch_type_PO</th>\n",
              "      <td>143.580043</td>\n",
              "    </tr>\n",
              "    <tr>\n",
              "      <th>pitch_type_KN</th>\n",
              "      <td>108.309516</td>\n",
              "    </tr>\n",
              "    <tr>\n",
              "      <th>pitch_type_EP</th>\n",
              "      <td>64.376588</td>\n",
              "    </tr>\n",
              "    <tr>\n",
              "      <th>pitch_type_CS</th>\n",
              "      <td>60.965431</td>\n",
              "    </tr>\n",
              "    <tr>\n",
              "      <th>pitch_type_FA</th>\n",
              "      <td>27.742260</td>\n",
              "    </tr>\n",
              "    <tr>\n",
              "      <th>pitch_type_SV</th>\n",
              "      <td>17.503919</td>\n",
              "    </tr>\n",
              "    <tr>\n",
              "      <th>pitch_type_ST</th>\n",
              "      <td>8.214201</td>\n",
              "    </tr>\n",
              "    <tr>\n",
              "      <th>pitch_type_FS</th>\n",
              "      <td>7.762692</td>\n",
              "    </tr>\n",
              "    <tr>\n",
              "      <th>pitch_type_KC</th>\n",
              "      <td>6.543941</td>\n",
              "    </tr>\n",
              "    <tr>\n",
              "      <th>pitch_type_FC</th>\n",
              "      <td>3.415849</td>\n",
              "    </tr>\n",
              "    <tr>\n",
              "      <th>pitch_type_CU</th>\n",
              "      <td>3.136581</td>\n",
              "    </tr>\n",
              "    <tr>\n",
              "      <th>pitch_type_CH</th>\n",
              "      <td>2.418370</td>\n",
              "    </tr>\n",
              "    <tr>\n",
              "      <th>pitch_type_SI</th>\n",
              "      <td>1.911432</td>\n",
              "    </tr>\n",
              "    <tr>\n",
              "      <th>pitch_type_SL</th>\n",
              "      <td>1.657119</td>\n",
              "    </tr>\n",
              "    <tr>\n",
              "      <th>release_pos_x</th>\n",
              "      <td>0.763223</td>\n",
              "    </tr>\n",
              "    <tr>\n",
              "      <th>vy0</th>\n",
              "      <td>0.686504</td>\n",
              "    </tr>\n",
              "    <tr>\n",
              "      <th>pitch_type_FF</th>\n",
              "      <td>0.648283</td>\n",
              "    </tr>\n",
              "    <tr>\n",
              "      <th>vz0</th>\n",
              "      <td>0.377104</td>\n",
              "    </tr>\n",
              "    <tr>\n",
              "      <th>pfx_x</th>\n",
              "      <td>0.159526</td>\n",
              "    </tr>\n",
              "    <tr>\n",
              "      <th>ax</th>\n",
              "      <td>0.124176</td>\n",
              "    </tr>\n",
              "    <tr>\n",
              "      <th>swing</th>\n",
              "      <td>0.119659</td>\n",
              "    </tr>\n",
              "    <tr>\n",
              "      <th>ay</th>\n",
              "      <td>0.020897</td>\n",
              "    </tr>\n",
              "    <tr>\n",
              "      <th>release_pos_y</th>\n",
              "      <td>0.012617</td>\n",
              "    </tr>\n",
              "    <tr>\n",
              "      <th>plate_x</th>\n",
              "      <td>0.003625</td>\n",
              "    </tr>\n",
              "    <tr>\n",
              "      <th>release_extension</th>\n",
              "      <td>-0.013040</td>\n",
              "    </tr>\n",
              "    <tr>\n",
              "      <th>plate_z</th>\n",
              "      <td>-0.064579</td>\n",
              "    </tr>\n",
              "    <tr>\n",
              "      <th>az</th>\n",
              "      <td>-0.355273</td>\n",
              "    </tr>\n",
              "    <tr>\n",
              "      <th>spin_axis</th>\n",
              "      <td>-0.361763</td>\n",
              "    </tr>\n",
              "    <tr>\n",
              "      <th>zone</th>\n",
              "      <td>-0.413859</td>\n",
              "    </tr>\n",
              "    <tr>\n",
              "      <th>release_spin_rate</th>\n",
              "      <td>-0.611990</td>\n",
              "    </tr>\n",
              "    <tr>\n",
              "      <th>vx0</th>\n",
              "      <td>-0.630991</td>\n",
              "    </tr>\n",
              "    <tr>\n",
              "      <th>release_speed</th>\n",
              "      <td>-0.673670</td>\n",
              "    </tr>\n",
              "    <tr>\n",
              "      <th>effective_speed</th>\n",
              "      <td>-0.696267</td>\n",
              "    </tr>\n",
              "    <tr>\n",
              "      <th>pfx_z</th>\n",
              "      <td>-0.730296</td>\n",
              "    </tr>\n",
              "    <tr>\n",
              "      <th>release_pos_z</th>\n",
              "      <td>-2.202790</td>\n",
              "    </tr>\n",
              "  </tbody>\n",
              "</table>\n",
              "</div>"
            ],
            "text/plain": [
              "                         Skew\n",
              "pitch_type_SC      400.450996\n",
              "pitch_type_PO      143.580043\n",
              "pitch_type_KN      108.309516\n",
              "pitch_type_EP       64.376588\n",
              "pitch_type_CS       60.965431\n",
              "pitch_type_FA       27.742260\n",
              "pitch_type_SV       17.503919\n",
              "pitch_type_ST        8.214201\n",
              "pitch_type_FS        7.762692\n",
              "pitch_type_KC        6.543941\n",
              "pitch_type_FC        3.415849\n",
              "pitch_type_CU        3.136581\n",
              "pitch_type_CH        2.418370\n",
              "pitch_type_SI        1.911432\n",
              "pitch_type_SL        1.657119\n",
              "release_pos_x        0.763223\n",
              "vy0                  0.686504\n",
              "pitch_type_FF        0.648283\n",
              "vz0                  0.377104\n",
              "pfx_x                0.159526\n",
              "ax                   0.124176\n",
              "swing                0.119659\n",
              "ay                   0.020897\n",
              "release_pos_y        0.012617\n",
              "plate_x              0.003625\n",
              "release_extension   -0.013040\n",
              "plate_z             -0.064579\n",
              "az                  -0.355273\n",
              "spin_axis           -0.361763\n",
              "zone                -0.413859\n",
              "release_spin_rate   -0.611990\n",
              "vx0                 -0.630991\n",
              "release_speed       -0.673670\n",
              "effective_speed     -0.696267\n",
              "pfx_z               -0.730296\n",
              "release_pos_z       -2.202790"
            ]
          },
          "execution_count": 24,
          "metadata": {},
          "output_type": "execute_result"
        }
      ],
      "source": [
        "#NOTAMOS QUE NO TIENEN COLAS PESADAS, LAS QUE MUESTRAN COLAS PESADAS SON AQUELLAS \n",
        "#QUE USAMOS ONE HOT LABEL ENCODER ENTONCES EN GENERAL TODAS LAS VARIABLES ESTAN \n",
        "#DECENTES PARA MODELAR\n",
        "\n",
        "numeric_feats = new_df_encoded.dtypes[new_df_encoded.dtypes != \"object\"].index\n",
        "skewed_feats = new_df_encoded[numeric_feats].apply(lambda x: skew(x.dropna())).sort_values(ascending=False)\n",
        "print(\"\\nSkew in numerical features: \\n\")\n",
        "skewness = pd.DataFrame({'Skew' :skewed_feats})\n",
        "skewness"
      ]
    },
    {
      "cell_type": "code",
      "execution_count": null,
      "id": "thousand-auction",
      "metadata": {
        "id": "thousand-auction"
      },
      "outputs": [],
      "source": [
        "# Muestreo Aleatorio\n",
        "sample_df = new_df_encoded.sample(n=10000, random_state=42)"
      ]
    },
    {
      "cell_type": "code",
      "execution_count": null,
      "id": "dying-project",
      "metadata": {
        "id": "dying-project"
      },
      "outputs": [],
      "source": [
        "x=sample_df.drop('swing', axis=1)\n",
        "y=sample_df['swing']"
      ]
    },
    {
      "cell_type": "code",
      "execution_count": null,
      "id": "piano-secretariat",
      "metadata": {
        "id": "piano-secretariat"
      },
      "outputs": [],
      "source": [
        "x_train, x_test, y_train, y_test=train_test_split(x,y,test_size=0.25, random_state=0)"
      ]
    },
    {
      "cell_type": "code",
      "execution_count": null,
      "id": "mature-turkish",
      "metadata": {
        "id": "mature-turkish"
      },
      "outputs": [],
      "source": [
        "#STANDARIZING DATA COVERT DATA TO VARIANCE 1 AND MAKE A GENERAL MEAN \n",
        "sc=StandardScaler().fit(x_train)\n",
        "x_train=sc.transform(x_train)\n",
        "x_test=sc.transform(x_test)"
      ]
    },
    {
      "cell_type": "code",
      "execution_count": null,
      "id": "configured-binary",
      "metadata": {
        "id": "configured-binary"
      },
      "outputs": [],
      "source": [
        "#Modelos"
      ]
    },
    {
      "cell_type": "code",
      "execution_count": null,
      "id": "laughing-trace",
      "metadata": {
        "id": "laughing-trace"
      },
      "outputs": [],
      "source": [
        "#SVM"
      ]
    },
    {
      "cell_type": "code",
      "execution_count": null,
      "id": "blond-cattle",
      "metadata": {
        "id": "blond-cattle"
      },
      "outputs": [],
      "source": [
        "def grid_search_clf_svm(x_train, y_train, C=None, gamma = None, search_delta_svm=0.25):\n",
        "\n",
        "    # extraemos los valores 'y' para clasificar del dataframe que alberga los datos\n",
        "    y = y_train\n",
        "    x = x_train\n",
        "\n",
        "    # parametros de la malla de busqueda\n",
        "    svm_clf = svm.SVC(class_weight='balanced', probability=False)\n",
        "    \n",
        "    if (C is None):\n",
        "        # Parametros de la malla: ojo con la definicion ->  classifier__ // dos guiones bajos antes del parametro\n",
        "        grid_params = {}\n",
        "        grid_params['kernel'] = ['rbf']\n",
        "        grid_params['C'] = [2**k for k in range(-5,16)] \n",
        "        grid_params['gamma'] = [2**k for k in range(-15, 4)]\n",
        "    else:\n",
        "        grid_params = {}\n",
        "        grid_params['kernel'] = ['rbf']\n",
        "        grid_params['C'] = [2**(C+(k*search_delta_svm)) for k in range(-8,8)] # np.arange(0.1,4.1,0.1) \n",
        "        grid_params['gamma'] = [2**(gamma+(k*search_delta_svm)) for k in range(-8,8)] #[2**(-7+(0.25*k)) for k in range(-8,8)] # np.arange(0.1,4.1,0.1)\n",
        "\n",
        "    cv = RepeatedStratifiedKFold(n_splits=10, n_repeats=1, random_state=1)\n",
        "    #grid_search = RandomizedSearchCV(svm_clf, param_distributions = grid_params, cv = cv, scoring='balanced_accuracy', n_jobs=-1)\n",
        "    grid_search = GridSearchCV(svm_clf, param_grid=grid_params, n_jobs=-1, cv=cv, scoring='balanced_accuracy')\n",
        "    grid_result = grid_search.fit(x, y) # fit(X,y)\n",
        "    print(\"Best: %f using %s\" % (grid_result.best_score_, grid_result.best_params_))\n",
        "    print('Best: %f, %f'% (grid_result.cv_results_['mean_test_score'][grid_result.best_index_], grid_result.cv_results_['std_test_score'][grid_result.best_index_]))\n",
        "    # means = grid_result.cv_results_['mean_test_score']\n",
        "    # stds = grid_result.cv_results_['std_test_score']\n",
        "    # params = grid_result.cv_results_['params']\n",
        "\n",
        "    #for mean, stdev, param in zip(means, stds, params):\n",
        "    #    print(\"%f (%f) with: %r\" % (mean, stdev, param))\n",
        "    return grid_result.best_score_,grid_result.best_params_"
      ]
    },
    {
      "cell_type": "code",
      "execution_count": null,
      "id": "minus-sugar",
      "metadata": {
        "id": "minus-sugar"
      },
      "outputs": [],
      "source": [
        "#RF\n",
        "#duda si crit va en la funcion o no crit = None ??\n",
        "#duda como ver cual criterio eligio para luego meterlo en el main\n",
        "def grid_search_clf_rf(x_train, y_train, min_samples = None, n_estimators= None, criterion = None, search_delta_rf = 25):\n",
        "    # extraemos los valores 'y' para clasificar del dataframe que alberga los datos\n",
        "    y = y_train\n",
        "    x = x_train\n",
        "    \n",
        "    #Clasificador\n",
        "    rnd_clf = RandomForestClassifier(max_depth=1, oob_score=True, bootstrap=True, class_weight='balanced')\n",
        "\n",
        "    #parámetros de malla de búsqueda\n",
        "    if (n_estimators is None):\n",
        "        #Parámetros de la malla de búsqueda para RF\n",
        "        grid_params = {}\n",
        "        grid_params['min_samples_leaf'] = [1, 2, 4, 8, 16]\n",
        "        grid_params['n_estimators'] = [100, 200, 400, 600, 800, 1000]\n",
        "        grid_params['criterion'] = ['gini', 'entropy', 'log_loss']\n",
        "    else:\n",
        "        grid_params = {}\n",
        "        grid_params['min_samples_leaf'] = [1, 2, 4, 8, 16]\n",
        "        grid_params['n_estimators'] = [n_estimators+k for k in range((-search_delta_rf), search_delta_rf)]\n",
        "        grid_params['criterion'] = ['gini', 'entropy', 'log_loss']\n",
        "    \n",
        "    cv = RepeatedStratifiedKFold(n_splits=10, n_repeats=1, random_state=1)\n",
        "    grid_search = GridSearchCV(rnd_clf, param_grid=grid_params, n_jobs=-1, cv=cv, scoring='balanced_accuracy')\n",
        "    #grid_search = RandomizedSearchCV(rnd_clf, param_distributions = grid_params, cv = cv, scoring='balanced_accuracy', n_jobs=-1)\n",
        "    grid_result = grid_search.fit(x, y) # fit(X,y)\n",
        "    print(\"Best: %f using %s\" % (grid_result.best_score_, grid_result.best_params_))\n",
        "    print('Best: %f, %f'% (grid_result.cv_results_['mean_test_score'][grid_result.best_index_], grid_result.cv_results_['std_test_score'][grid_result.best_index_]))\n",
        "    # means = grid_result.cv_results_['mean_test_score']\n",
        "    # stds = grid_result.cv_results_['std_test_score']\n",
        "    # params = grid_result.cv_results_['params']\n",
        "\n",
        "    #for mean, stdev, param in zip(means, stds, params):\n",
        "    #    print(\"%f (%f) with: %r\" % (mean, stdev, param))\n",
        "    return grid_result.best_score_,grid_result.best_params_"
      ]
    },
    {
      "cell_type": "code",
      "execution_count": null,
      "id": "complimentary-grammar",
      "metadata": {
        "scrolled": true,
        "id": "complimentary-grammar"
      },
      "outputs": [],
      "source": [
        "#MAIN\n",
        "#SVM\n",
        "# Empezamos el proceso de clasificación\n",
        "print('Learning from data...')\n",
        "k = 1\n",
        "print('Iteration #'+str(k))\n",
        "prev = 0.0\n",
        "tol = 0.0001\n",
        "\n",
        "search_delta_svm = 0.25\n",
        "best_result, best_params = grid_search_clf_svm(x_train, y_train)\n",
        "\n",
        "while (best_result-prev>tol):\n",
        "    prev = best_result\n",
        "    best_result, best_params = grid_search_clf_svm(x_train, y_train, C = np.log2(best_params['C']), gamma = np.log2(best_params['gamma']), search_delta_svm = search_delta_svm)\n",
        "    search_delta_svm /= 2\n",
        "    k += 1\n",
        "    print('Iteration #'+str(k))"
      ]
    },
    {
      "cell_type": "code",
      "execution_count": null,
      "id": "proof-yahoo",
      "metadata": {
        "scrolled": true,
        "id": "proof-yahoo"
      },
      "outputs": [],
      "source": [
        "#RF\n",
        "# Empezamos el proceso de clasificación\n",
        "#duda de la K\n",
        "print('Learning from data...')\n",
        "k = 1\n",
        "print('Iteration #'+str(k))\n",
        "prev = 0.0\n",
        "tol = 0.0001\n",
        "\n",
        "search_delta_rf = 25\n",
        "best_result, best_params = grid_search_clf_rf(x_train, y_train)\n",
        "\n",
        "#duda crit va aquí o como entra\n",
        "while (best_result-prev>tol):\n",
        "    prev = best_result\n",
        "    best_result, best_params = grid_search_clf_rf(x_train, y_train, min_samples = best_params['min_samples_leaf'], n_estimators = best_params['n_estimators'], criterion = best_params['criterion'],search_delta_rf = search_delta_rf)\n",
        "    search_delta_rf = int(search_delta_rf/2)\n",
        "    k += 1\n",
        "    print('Iteration #'+str(k))"
      ]
    },
    {
      "cell_type": "code",
      "execution_count": null,
      "id": "looking-lightweight",
      "metadata": {
        "id": "looking-lightweight"
      },
      "outputs": [],
      "source": [
        "#Los Mejores Parámetros son:\n",
        "#SVM\n",
        "#grid search:\n",
        "#Kernel RBF\n",
        "# C = 256\n",
        "# gamma = 0.004645340292979379\n",
        "\n",
        "#RF\n",
        "# n_estimators = 1018\n",
        "# min_samples_leaf = 1\n",
        "# criterion = entropy\n"
      ]
    },
    {
      "cell_type": "code",
      "execution_count": null,
      "id": "portable-catering",
      "metadata": {
        "id": "portable-catering"
      },
      "outputs": [],
      "source": [
        "#Definir Modelos con los parámetros de arriba.\n",
        "#SVM\n",
        "svm_clf = svm.SVC(C=256.0, kernel = 'rbf', gamma = 0.004645340292979379, class_weight='balanced', probability=False)\n",
        "\n",
        "#RF\n",
        "rnd_clf = RandomForestClassifier(n_estimators = 1018, criterion = 'entropy', max_depth=1, min_samples_leaf = 1, oob_score=True, bootstrap=True, class_weight='balanced')"
      ]
    },
    {
      "cell_type": "code",
      "execution_count": null,
      "id": "excited-light",
      "metadata": {
        "scrolled": true,
        "id": "excited-light",
        "outputId": "b3acf1fd-9dd0-47e0-8b68-98f072496f72"
      },
      "outputs": [
        {
          "data": {
            "text/html": [
              "<style>#sk-container-id-3 {color: black;background-color: white;}#sk-container-id-3 pre{padding: 0;}#sk-container-id-3 div.sk-toggleable {background-color: white;}#sk-container-id-3 label.sk-toggleable__label {cursor: pointer;display: block;width: 100%;margin-bottom: 0;padding: 0.3em;box-sizing: border-box;text-align: center;}#sk-container-id-3 label.sk-toggleable__label-arrow:before {content: \"▸\";float: left;margin-right: 0.25em;color: #696969;}#sk-container-id-3 label.sk-toggleable__label-arrow:hover:before {color: black;}#sk-container-id-3 div.sk-estimator:hover label.sk-toggleable__label-arrow:before {color: black;}#sk-container-id-3 div.sk-toggleable__content {max-height: 0;max-width: 0;overflow: hidden;text-align: left;background-color: #f0f8ff;}#sk-container-id-3 div.sk-toggleable__content pre {margin: 0.2em;color: black;border-radius: 0.25em;background-color: #f0f8ff;}#sk-container-id-3 input.sk-toggleable__control:checked~div.sk-toggleable__content {max-height: 200px;max-width: 100%;overflow: auto;}#sk-container-id-3 input.sk-toggleable__control:checked~label.sk-toggleable__label-arrow:before {content: \"▾\";}#sk-container-id-3 div.sk-estimator input.sk-toggleable__control:checked~label.sk-toggleable__label {background-color: #d4ebff;}#sk-container-id-3 div.sk-label input.sk-toggleable__control:checked~label.sk-toggleable__label {background-color: #d4ebff;}#sk-container-id-3 input.sk-hidden--visually {border: 0;clip: rect(1px 1px 1px 1px);clip: rect(1px, 1px, 1px, 1px);height: 1px;margin: -1px;overflow: hidden;padding: 0;position: absolute;width: 1px;}#sk-container-id-3 div.sk-estimator {font-family: monospace;background-color: #f0f8ff;border: 1px dotted black;border-radius: 0.25em;box-sizing: border-box;margin-bottom: 0.5em;}#sk-container-id-3 div.sk-estimator:hover {background-color: #d4ebff;}#sk-container-id-3 div.sk-parallel-item::after {content: \"\";width: 100%;border-bottom: 1px solid gray;flex-grow: 1;}#sk-container-id-3 div.sk-label:hover label.sk-toggleable__label {background-color: #d4ebff;}#sk-container-id-3 div.sk-serial::before {content: \"\";position: absolute;border-left: 1px solid gray;box-sizing: border-box;top: 0;bottom: 0;left: 50%;z-index: 0;}#sk-container-id-3 div.sk-serial {display: flex;flex-direction: column;align-items: center;background-color: white;padding-right: 0.2em;padding-left: 0.2em;position: relative;}#sk-container-id-3 div.sk-item {position: relative;z-index: 1;}#sk-container-id-3 div.sk-parallel {display: flex;align-items: stretch;justify-content: center;background-color: white;position: relative;}#sk-container-id-3 div.sk-item::before, #sk-container-id-3 div.sk-parallel-item::before {content: \"\";position: absolute;border-left: 1px solid gray;box-sizing: border-box;top: 0;bottom: 0;left: 50%;z-index: -1;}#sk-container-id-3 div.sk-parallel-item {display: flex;flex-direction: column;z-index: 1;position: relative;background-color: white;}#sk-container-id-3 div.sk-parallel-item:first-child::after {align-self: flex-end;width: 50%;}#sk-container-id-3 div.sk-parallel-item:last-child::after {align-self: flex-start;width: 50%;}#sk-container-id-3 div.sk-parallel-item:only-child::after {width: 0;}#sk-container-id-3 div.sk-dashed-wrapped {border: 1px dashed gray;margin: 0 0.4em 0.5em 0.4em;box-sizing: border-box;padding-bottom: 0.4em;background-color: white;}#sk-container-id-3 div.sk-label label {font-family: monospace;font-weight: bold;display: inline-block;line-height: 1.2em;}#sk-container-id-3 div.sk-label-container {text-align: center;}#sk-container-id-3 div.sk-container {/* jupyter's `normalize.less` sets `[hidden] { display: none; }` but bootstrap.min.css set `[hidden] { display: none !important; }` so we also need the `!important` here to be able to override the default hidden behavior on the sphinx rendered scikit-learn.org. See: https://github.com/scikit-learn/scikit-learn/issues/21755 */display: inline-block !important;position: relative;}#sk-container-id-3 div.sk-text-repr-fallback {display: none;}</style><div id=\"sk-container-id-3\" class=\"sk-top-container\"><div class=\"sk-text-repr-fallback\"><pre>SVC(C=256.0, class_weight=&#x27;balanced&#x27;, gamma=0.004645340292979379)</pre><b>In a Jupyter environment, please rerun this cell to show the HTML representation or trust the notebook. <br />On GitHub, the HTML representation is unable to render, please try loading this page with nbviewer.org.</b></div><div class=\"sk-container\" hidden><div class=\"sk-item\"><div class=\"sk-estimator sk-toggleable\"><input class=\"sk-toggleable__control sk-hidden--visually\" id=\"sk-estimator-id-3\" type=\"checkbox\" checked><label for=\"sk-estimator-id-3\" class=\"sk-toggleable__label sk-toggleable__label-arrow\">SVC</label><div class=\"sk-toggleable__content\"><pre>SVC(C=256.0, class_weight=&#x27;balanced&#x27;, gamma=0.004645340292979379)</pre></div></div></div></div></div>"
            ],
            "text/plain": [
              "SVC(C=256.0, class_weight='balanced', gamma=0.004645340292979379)"
            ]
          },
          "execution_count": 53,
          "metadata": {},
          "output_type": "execute_result"
        }
      ],
      "source": [
        "#Ajustar Modelos con train\n",
        "#SVM\n",
        "svm_clf.fit(x_train, y_train)"
      ]
    },
    {
      "cell_type": "code",
      "execution_count": null,
      "id": "sitting-decimal",
      "metadata": {
        "id": "sitting-decimal",
        "outputId": "5c2e0aad-aa33-4158-d7b7-bb1aca25cef5"
      },
      "outputs": [
        {
          "data": {
            "text/html": [
              "<style>#sk-container-id-4 {color: black;background-color: white;}#sk-container-id-4 pre{padding: 0;}#sk-container-id-4 div.sk-toggleable {background-color: white;}#sk-container-id-4 label.sk-toggleable__label {cursor: pointer;display: block;width: 100%;margin-bottom: 0;padding: 0.3em;box-sizing: border-box;text-align: center;}#sk-container-id-4 label.sk-toggleable__label-arrow:before {content: \"▸\";float: left;margin-right: 0.25em;color: #696969;}#sk-container-id-4 label.sk-toggleable__label-arrow:hover:before {color: black;}#sk-container-id-4 div.sk-estimator:hover label.sk-toggleable__label-arrow:before {color: black;}#sk-container-id-4 div.sk-toggleable__content {max-height: 0;max-width: 0;overflow: hidden;text-align: left;background-color: #f0f8ff;}#sk-container-id-4 div.sk-toggleable__content pre {margin: 0.2em;color: black;border-radius: 0.25em;background-color: #f0f8ff;}#sk-container-id-4 input.sk-toggleable__control:checked~div.sk-toggleable__content {max-height: 200px;max-width: 100%;overflow: auto;}#sk-container-id-4 input.sk-toggleable__control:checked~label.sk-toggleable__label-arrow:before {content: \"▾\";}#sk-container-id-4 div.sk-estimator input.sk-toggleable__control:checked~label.sk-toggleable__label {background-color: #d4ebff;}#sk-container-id-4 div.sk-label input.sk-toggleable__control:checked~label.sk-toggleable__label {background-color: #d4ebff;}#sk-container-id-4 input.sk-hidden--visually {border: 0;clip: rect(1px 1px 1px 1px);clip: rect(1px, 1px, 1px, 1px);height: 1px;margin: -1px;overflow: hidden;padding: 0;position: absolute;width: 1px;}#sk-container-id-4 div.sk-estimator {font-family: monospace;background-color: #f0f8ff;border: 1px dotted black;border-radius: 0.25em;box-sizing: border-box;margin-bottom: 0.5em;}#sk-container-id-4 div.sk-estimator:hover {background-color: #d4ebff;}#sk-container-id-4 div.sk-parallel-item::after {content: \"\";width: 100%;border-bottom: 1px solid gray;flex-grow: 1;}#sk-container-id-4 div.sk-label:hover label.sk-toggleable__label {background-color: #d4ebff;}#sk-container-id-4 div.sk-serial::before {content: \"\";position: absolute;border-left: 1px solid gray;box-sizing: border-box;top: 0;bottom: 0;left: 50%;z-index: 0;}#sk-container-id-4 div.sk-serial {display: flex;flex-direction: column;align-items: center;background-color: white;padding-right: 0.2em;padding-left: 0.2em;position: relative;}#sk-container-id-4 div.sk-item {position: relative;z-index: 1;}#sk-container-id-4 div.sk-parallel {display: flex;align-items: stretch;justify-content: center;background-color: white;position: relative;}#sk-container-id-4 div.sk-item::before, #sk-container-id-4 div.sk-parallel-item::before {content: \"\";position: absolute;border-left: 1px solid gray;box-sizing: border-box;top: 0;bottom: 0;left: 50%;z-index: -1;}#sk-container-id-4 div.sk-parallel-item {display: flex;flex-direction: column;z-index: 1;position: relative;background-color: white;}#sk-container-id-4 div.sk-parallel-item:first-child::after {align-self: flex-end;width: 50%;}#sk-container-id-4 div.sk-parallel-item:last-child::after {align-self: flex-start;width: 50%;}#sk-container-id-4 div.sk-parallel-item:only-child::after {width: 0;}#sk-container-id-4 div.sk-dashed-wrapped {border: 1px dashed gray;margin: 0 0.4em 0.5em 0.4em;box-sizing: border-box;padding-bottom: 0.4em;background-color: white;}#sk-container-id-4 div.sk-label label {font-family: monospace;font-weight: bold;display: inline-block;line-height: 1.2em;}#sk-container-id-4 div.sk-label-container {text-align: center;}#sk-container-id-4 div.sk-container {/* jupyter's `normalize.less` sets `[hidden] { display: none; }` but bootstrap.min.css set `[hidden] { display: none !important; }` so we also need the `!important` here to be able to override the default hidden behavior on the sphinx rendered scikit-learn.org. See: https://github.com/scikit-learn/scikit-learn/issues/21755 */display: inline-block !important;position: relative;}#sk-container-id-4 div.sk-text-repr-fallback {display: none;}</style><div id=\"sk-container-id-4\" class=\"sk-top-container\"><div class=\"sk-text-repr-fallback\"><pre>RandomForestClassifier(class_weight=&#x27;balanced&#x27;, criterion=&#x27;entropy&#x27;,\n",
              "                       max_depth=1, n_estimators=1018, oob_score=True)</pre><b>In a Jupyter environment, please rerun this cell to show the HTML representation or trust the notebook. <br />On GitHub, the HTML representation is unable to render, please try loading this page with nbviewer.org.</b></div><div class=\"sk-container\" hidden><div class=\"sk-item\"><div class=\"sk-estimator sk-toggleable\"><input class=\"sk-toggleable__control sk-hidden--visually\" id=\"sk-estimator-id-4\" type=\"checkbox\" checked><label for=\"sk-estimator-id-4\" class=\"sk-toggleable__label sk-toggleable__label-arrow\">RandomForestClassifier</label><div class=\"sk-toggleable__content\"><pre>RandomForestClassifier(class_weight=&#x27;balanced&#x27;, criterion=&#x27;entropy&#x27;,\n",
              "                       max_depth=1, n_estimators=1018, oob_score=True)</pre></div></div></div></div></div>"
            ],
            "text/plain": [
              "RandomForestClassifier(class_weight='balanced', criterion='entropy',\n",
              "                       max_depth=1, n_estimators=1018, oob_score=True)"
            ]
          },
          "execution_count": 54,
          "metadata": {},
          "output_type": "execute_result"
        }
      ],
      "source": [
        "#RF\n",
        "rnd_clf.fit(x_train, y_train)"
      ]
    },
    {
      "cell_type": "code",
      "execution_count": null,
      "id": "narrative-chile",
      "metadata": {
        "id": "narrative-chile"
      },
      "outputs": [],
      "source": [
        "y_pred_svm = svm_clf.predict(x_test)\n",
        "y_pred_rnd = rnd_clf.predict(x_test)"
      ]
    },
    {
      "cell_type": "code",
      "execution_count": null,
      "id": "dutch-mauritius",
      "metadata": {
        "id": "dutch-mauritius"
      },
      "outputs": [],
      "source": [
        "svm_bas = balanced_accuracy_score(y_test, y_pred_svm)\n",
        "svm_f1 = f1_score(y_test, y_pred_svm)"
      ]
    },
    {
      "cell_type": "code",
      "execution_count": null,
      "id": "fallen-margin",
      "metadata": {
        "id": "fallen-margin"
      },
      "outputs": [],
      "source": [
        "rnd_bas = balanced_accuracy_score(y_test, y_pred_rnd)\n",
        "rnd_f1 = f1_score(y_test, y_pred_rnd)"
      ]
    },
    {
      "cell_type": "code",
      "execution_count": null,
      "id": "yellow-coordination",
      "metadata": {
        "id": "yellow-coordination",
        "outputId": "6a83294d-8443-4216-8497-6e037d88ba42"
      },
      "outputs": [
        {
          "name": "stdout",
          "output_type": "stream",
          "text": [
            "0.7264251207729469\n"
          ]
        }
      ],
      "source": [
        "print(svm_bas)"
      ]
    },
    {
      "cell_type": "code",
      "execution_count": null,
      "id": "wanted-teens",
      "metadata": {
        "id": "wanted-teens",
        "outputId": "a97a37f9-2139-4c71-cc8f-0dd15577290a"
      },
      "outputs": [
        {
          "name": "stdout",
          "output_type": "stream",
          "text": [
            "0.7251278018088871\n"
          ]
        }
      ],
      "source": [
        "print(svm_f1)"
      ]
    },
    {
      "cell_type": "code",
      "execution_count": null,
      "id": "extended-tunisia",
      "metadata": {
        "id": "extended-tunisia",
        "outputId": "edb97b32-c97c-4484-d920-45dce52b5593"
      },
      "outputs": [
        {
          "name": "stdout",
          "output_type": "stream",
          "text": [
            "0.7126570048309179\n"
          ]
        }
      ],
      "source": [
        "print(rnd_bas)"
      ]
    },
    {
      "cell_type": "code",
      "execution_count": null,
      "id": "human-device",
      "metadata": {
        "id": "human-device",
        "outputId": "9ec0b246-2a6e-4f5b-ec82-d9552b120cfc"
      },
      "outputs": [
        {
          "name": "stdout",
          "output_type": "stream",
          "text": [
            "0.6972245584524811\n"
          ]
        }
      ],
      "source": [
        "print(rnd_f1)"
      ]
    },
    {
      "cell_type": "code",
      "execution_count": null,
      "id": "elementary-debut",
      "metadata": {
        "id": "elementary-debut"
      },
      "outputs": [],
      "source": [
        "confusion_matrix_svm = confusion_matrix(y_test, y_pred_svm)"
      ]
    },
    {
      "cell_type": "code",
      "execution_count": null,
      "id": "liberal-immigration",
      "metadata": {
        "id": "liberal-immigration"
      },
      "outputs": [],
      "source": [
        "cm_display_svm = ConfusionMatrixDisplay(confusion_matrix = confusion_matrix_svm, display_labels = [0,1])"
      ]
    },
    {
      "cell_type": "code",
      "execution_count": null,
      "id": "meaningful-character",
      "metadata": {
        "id": "meaningful-character",
        "outputId": "0091d9ad-476c-4bc7-be5b-b8d05361004b"
      },
      "outputs": [
        {
          "data": {
            "image/png": "[encoded data removed]",
            "text/plain": [
              "<Figure size 432x288 with 2 Axes>"
            ]
          },
          "metadata": {
            "needs_background": "light"
          },
          "output_type": "display_data"
        }
      ],
      "source": [
        "cm_display_svm.plot()\n",
        "plt.show()"
      ]
    },
    {
      "cell_type": "code",
      "execution_count": null,
      "id": "rolled-camera",
      "metadata": {
        "id": "rolled-camera"
      },
      "outputs": [],
      "source": [
        "confusion_matrix_rnd = confusion_matrix(y_test, y_pred_rnd)"
      ]
    },
    {
      "cell_type": "code",
      "execution_count": null,
      "id": "starting-facial",
      "metadata": {
        "id": "starting-facial"
      },
      "outputs": [],
      "source": [
        "cm_display_rnd = ConfusionMatrixDisplay(confusion_matrix = confusion_matrix_rnd, display_labels = [0,1])"
      ]
    },
    {
      "cell_type": "code",
      "execution_count": null,
      "id": "shared-insulin",
      "metadata": {
        "id": "shared-insulin",
        "outputId": "50056ffd-f41c-412f-d2f5-0c4c83d0e5bc"
      },
      "outputs": [
        {
          "data": {
            "image/png": "[encoded data removed]",
            "text/plain": [
              "<Figure size 432x288 with 2 Axes>"
            ]
          },
          "metadata": {
            "needs_background": "light"
          },
          "output_type": "display_data"
        }
      ],
      "source": [
        "cm_display_rnd.plot()\n",
        "plt.show()"
      ]
    },
    {
      "cell_type": "code",
      "execution_count": null,
      "id": "comfortable-street",
      "metadata": {
        "id": "comfortable-street"
      },
      "outputs": [],
      "source": []
    }
  ],
  "metadata": {
    "kernelspec": {
      "display_name": "Python 3",
      "language": "python",
      "name": "python3"
    },
    "language_info": {
      "codemirror_mode": {
        "name": "ipython",
        "version": 3
      },
      "file_extension": ".py",
      "mimetype": "text/x-python",
      "name": "python",
      "nbconvert_exporter": "python",
      "pygments_lexer": "ipython3",
      "version": "3.9.1"
    },
    "colab": {
      "provenance": []
    }
  },
  "nbformat": 4,
  "nbformat_minor": 5
}